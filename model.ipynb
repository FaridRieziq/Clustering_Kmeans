{
 "cells": [
  {
   "cell_type": "code",
   "execution_count": 2,
   "metadata": {},
   "outputs": [
    {
     "name": "stdout",
     "output_type": "stream",
     "text": [
      "Model K-means telah disimpan\n"
     ]
    },
    {
     "name": "stderr",
     "output_type": "stream",
     "text": [
      "c:\\Users\\Asus\\AppData\\Local\\Programs\\Python\\Python310\\lib\\site-packages\\sklearn\\cluster\\_kmeans.py:870: FutureWarning: The default value of `n_init` will change from 10 to 'auto' in 1.4. Set the value of `n_init` explicitly to suppress the warning\n",
      "  warnings.warn(\n"
     ]
    }
   ],
   "source": [
    "import numpy as np\n",
    "import pandas as pd\n",
    "from sklearn.cluster import KMeans\n",
    "import joblib\n",
    "\n",
    "# Membaca dataset dari file CSV\n",
    "data = pd.read_csv('train.csv')\n",
    "\n",
    "# Mengubah dataset menjadi array numpy\n",
    "X = data.values\n",
    "\n",
    "# Inisialisasi model K-means dengan jumlah cluster yang diinginkan\n",
    "k = 3\n",
    "kmeans = KMeans(n_clusters=k)\n",
    "\n",
    "# Melatih model K-means menggunakan dataset\n",
    "kmeans.fit(X)\n",
    "\n",
    "# Menyimpan model K-means ke file menggunakan joblib\n",
    "joblib.dump(kmeans, 'kmeans_model.pkl')\n",
    "\n",
    "# Menampilkan pesan setelah menyimpan model\n",
    "print(\"Model K-means telah disimpan\")\n"
   ]
  }
 ],
 "metadata": {
  "kernelspec": {
   "display_name": "Python 3",
   "language": "python",
   "name": "python3"
  },
  "language_info": {
   "codemirror_mode": {
    "name": "ipython",
    "version": 3
   },
   "file_extension": ".py",
   "mimetype": "text/x-python",
   "name": "python",
   "nbconvert_exporter": "python",
   "pygments_lexer": "ipython3",
   "version": "3.10.6"
  },
  "orig_nbformat": 4
 },
 "nbformat": 4,
 "nbformat_minor": 2
}
