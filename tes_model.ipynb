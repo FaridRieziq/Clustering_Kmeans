{
 "cells": [
  {
   "cell_type": "code",
   "execution_count": 17,
   "metadata": {},
   "outputs": [
    {
     "name": "stdout",
     "output_type": "stream",
     "text": [
      "Hasil prediksi: 2\n"
     ]
    },
    {
     "name": "stderr",
     "output_type": "stream",
     "text": [
      "c:\\Users\\Asus\\AppData\\Local\\Programs\\Python\\Python310\\lib\\site-packages\\sklearn\\base.py:439: UserWarning: X does not have valid feature names, but KMeans was fitted with feature names\n",
      "  warnings.warn(\n"
     ]
    }
   ],
   "source": [
    "import numpy as np\n",
    "import joblib\n",
    "\n",
    "# Memuat kembali model K-means dari file pkl\n",
    "kmeans = joblib.load('kmeans_model.pkl')\n",
    "\n",
    "# Data test baru yang ingin diuji\n",
    "data_test = np.array([1043,\t1,\t1.8,\t1,\t14,\t0,\t5,\t0.1,\t193,\t3,\t16,\t226,\t1412,\t3476,\t12,\t7,\t2,\t0,\t1,\t0]).reshape(1, -1)\n",
    "\n",
    "# Melakukan prediksi pada data test\n",
    "predicted_label = kmeans.predict(data_test)\n",
    "\n",
    "# Menampilkan hasil prediksi\n",
    "print(f'Hasil prediksi: {predicted_label[0]}')\n"
   ]
  }
 ],
 "metadata": {
  "kernelspec": {
   "display_name": "Python 3",
   "language": "python",
   "name": "python3"
  },
  "language_info": {
   "codemirror_mode": {
    "name": "ipython",
    "version": 3
   },
   "file_extension": ".py",
   "mimetype": "text/x-python",
   "name": "python",
   "nbconvert_exporter": "python",
   "pygments_lexer": "ipython3",
   "version": "3.10.6"
  },
  "orig_nbformat": 4
 },
 "nbformat": 4,
 "nbformat_minor": 2
}
