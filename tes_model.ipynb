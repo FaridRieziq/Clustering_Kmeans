{
 "cells": [
  {
   "cell_type": "code",
   "execution_count": 28,
   "metadata": {},
   "outputs": [
    {
     "name": "stdout",
     "output_type": "stream",
     "text": [
      "Hasil prediksi: 1\n"
     ]
    }
   ],
   "source": [
    "import numpy as np\n",
    "import joblib\n",
    "\n",
    "# Memuat kembali model K-means dari file pkl\n",
    "kmeans = joblib.load('kmeans_model.pkl')\n",
    "\n",
    "# Data test baru yang ingin diuji\n",
    "data_test = np.array([1925, 0, 3.0, 1, 0, 1, 16, 0.8, 175, 8, 11, 983, 1087, 2173, 7, 3, 19, 1, 1, 0, 0]).reshape(1, -1)\n",
    "\n",
    "# Melakukan prediksi pada data test\n",
    "predicted_label = kmeans.predict(data_test)\n",
    "\n",
    "# Menampilkan hasil prediksi\n",
    "print(f'Hasil prediksi: {predicted_label[0]}')\n"
   ]
  }
 ],
 "metadata": {
  "kernelspec": {
   "display_name": "Python 3",
   "language": "python",
   "name": "python3"
  },
  "language_info": {
   "codemirror_mode": {
    "name": "ipython",
    "version": 3
   },
   "file_extension": ".py",
   "mimetype": "text/x-python",
   "name": "python",
   "nbconvert_exporter": "python",
   "pygments_lexer": "ipython3",
   "version": "3.10.6"
  },
  "orig_nbformat": 4
 },
 "nbformat": 4,
 "nbformat_minor": 2
}
